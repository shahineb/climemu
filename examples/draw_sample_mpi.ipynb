{
 "cells": [
  {
   "cell_type": "code",
   "execution_count": null,
   "id": "337a79a5",
   "metadata": {
    "vscode": {
     "languageId": "plaintext"
    }
   },
   "outputs": [],
   "source": [
    "# Clone repo and install dependencies\n",
    "%%capture\n",
    "!git clone https://github.com/shahineb/jax-esm-emulation.git\n",
    "%cd jax-esm-emulation/examples\n",
    "!pip install equinox diffrax healpy xarray cartopy"
   ]
  },
  {
   "cell_type": "code",
   "execution_count": null,
   "id": "b687a4e7",
   "metadata": {
    "vscode": {
     "languageId": "plaintext"
    }
   },
   "outputs": [],
   "source": [
    "# Import used dependencies\n",
    "from draw_samples import build_emulator\n",
    "\n",
    "\n",
    "# Compile and load emulator (takes ~1min)\n",
    "emulator = build_emulator(config, n_samples=1, n_steps=30)"
   ]
  },
  {
   "cell_type": "code",
   "execution_count": null,
   "id": "f7f51abd",
   "metadata": {
    "vscode": {
     "languageId": "plaintext"
    }
   },
   "outputs": [],
   "source": [
    "ΔT = 2.0  # Temperature anomaly in °C\n",
    "month = 1  # January\n",
    "seed = 0  # Random seed for reproducibility\n",
    "samples = emulator(ΔT=ΔT, month=month, seed=seed)"
   ]
  },
  {
   "cell_type": "code",
   "execution_count": null,
   "id": "c244f034",
   "metadata": {
    "vscode": {
     "languageId": "plaintext"
    }
   },
   "outputs": [],
   "source": [
    "varnames = [\"tas\", \"pr\", \"hurs\", \"sfcWind\"]\n",
    "nlat, nlon = config.model.input_size[1], config.model.input_size[2]\n",
    "ds = xr.Dataset(\n",
    "    {\n",
    "        var: (('member', 'lat', 'lon'), samples[:, i, :, :])\n",
    "        for i, var in enumerate(config.data.variables)\n",
    "    },\n",
    "    coords={\n",
    "        'member': jnp.arange(len(samples)) + 1,\n",
    "        'lat': jnp.arange(nlat),\n",
    "        'lon': jnp.arange(nlon),\n",
    "    }\n",
    ")"
   ]
  },
  {
   "cell_type": "code",
   "execution_count": null,
   "id": "c5e7b816",
   "metadata": {
    "vscode": {
     "languageId": "plaintext"
    }
   },
   "outputs": [],
   "source": [
    "# do your plots"
   ]
  }
 ],
 "metadata": {
  "language_info": {
   "name": "python"
  }
 },
 "nbformat": 4,
 "nbformat_minor": 5
}
