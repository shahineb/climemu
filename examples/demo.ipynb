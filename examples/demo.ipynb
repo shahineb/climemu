{
 "cells": [
  {
   "cell_type": "markdown",
   "id": "5e22b203",
   "metadata": {},
   "source": [
    "> This notebook demonstrates a generative climate model output emulator based on score-based diffusion models. The version shown here allows to run emulators of monthly averaged near-surface temperature, precipitation, relative humidity, wind speed for MPI-ESM1-2-LR. Full description of the methodology and evaluation are provided in the preprint.\n",
    "\n",
    "### Setup collab on GPU\n",
    "\n",
    "- From the dropdown menu, select Change runtime type.\n",
    "<br>\n",
    "<br>\n",
    "<img src=\"examples/docs/1.jpg\" width=\"400\" />\n",
    "\n",
    "<br>\n",
    "\n",
    "- In the Hardware accelerator section, select T4 GPU and click Save\n",
    "<br>\n",
    "<br>\n",
    "<img src=\"examples/docs/2.jpg\" width=\"300\" />\n",
    "\n",
    "<br>\n",
    "\n",
    "You can now start the session by running the next cell."
   ]
  },
  {
   "cell_type": "code",
   "execution_count": null,
   "id": "45e228bf",
   "metadata": {
    "vscode": {
     "languageId": "plaintext"
    }
   },
   "outputs": [],
   "source": [
    "# Install package with GPU support\n",
    "%%capture\n",
    "!pip install climemu[cuda12]"
   ]
  },
  {
   "cell_type": "code",
   "execution_count": null,
   "id": "219f608b",
   "metadata": {
    "vscode": {
     "languageId": "plaintext"
    }
   },
   "outputs": [],
   "source": []
  }
 ],
 "metadata": {
  "language_info": {
   "name": "python"
  }
 },
 "nbformat": 4,
 "nbformat_minor": 5
}
